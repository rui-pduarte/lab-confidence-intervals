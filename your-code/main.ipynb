{
 "cells": [
  {
   "cell_type": "markdown",
   "metadata": {},
   "source": [
    "# Confidence Intervals"
   ]
  },
  {
   "cell_type": "code",
   "execution_count": 78,
   "metadata": {},
   "outputs": [],
   "source": [
    "# Libraries\n",
    "import math\n",
    "import random\n",
    "from random import sample \n",
    "\n",
    "import pandas as pd\n",
    "import numpy as np\n",
    "\n",
    "import scipy.stats as st\n",
    "import statsmodels.stats.proportion as smp\n",
    "\n",
    "import matplotlib.pyplot as plt\n",
    "import seaborn as sns\n",
    "\n",
    "def z_two_sided(my_confidence): # Z-Score two-sided\n",
    "    import scipy.stats as st\n",
    "    return st.norm.ppf((1 + my_confidence)/2)"
   ]
  },
  {
   "cell_type": "markdown",
   "metadata": {},
   "source": [
    "## Challenge 1\n",
    "We want to estimate the average size of the men of a country with a confidence level of 80%. Assuming that the standard deviation of the sizes in the population is 4, get the confidence interval with a sample of men selected randomly, whose heights are:\n",
    "\n",
    "````\n",
    "heights = [167, 167, 168, 168, 168, 169, 171, 172, 173, 175, 175, 175, 177, 182, 195]\n",
    "````\n",
    "\n",
    "**Hint**: function `stats.norm.interval` from `scipy` can help you get through this exercise. "
   ]
  },
  {
   "cell_type": "code",
   "execution_count": 79,
   "metadata": {},
   "outputs": [
    {
     "name": "stdout",
     "output_type": "stream",
     "text": [
      "The confidence interval at 0.8 is [ 172.14308590115726 ; 174.79024743217607 ].\n"
     ]
    }
   ],
   "source": [
    "# your code here\n",
    "heights_data = [167, 167, 168, 168, 168, 169, 171, \n",
    "                172, 173, 175, 175, 175, 177, 182, 195]\n",
    "heights_mean = sum(heights)/len(heights)\n",
    "heights_std = 4 # Assumed.\n",
    "confidence = 0.80 \n",
    "\n",
    "z = z_two_sided(confidence)\n",
    "    \n",
    "confidence_int_min = heights_mean - z * heights_std / (len(heights)**(1/2))\n",
    "confidence_int_max = heights_mean + z * heights_std / (len(heights)**(1/2))\n",
    "\n",
    "print(\"The confidence interval at\", confidence, \"is [\",confidence_int_min,\n",
    "      \";\",confidence_int_max,\"].\")"
   ]
  },
  {
   "cell_type": "markdown",
   "metadata": {},
   "source": [
    "## Challenge 2 \n",
    "In a sample of 105 shops selected randomly from an area, we note that 27 of them have had losses in this month. Get an interval for the proportion of businesses in the area with losses to a confidence level of 80% and a confidence level of 90%.\n",
    "\n",
    "**Hint**: function `stats.norm.interval` from `scipy` can help you get through this exercise. "
   ]
  },
  {
   "cell_type": "code",
   "execution_count": 63,
   "metadata": {},
   "outputs": [
    {
     "name": "stdout",
     "output_type": "stream",
     "text": [
      "80% Confidence Interval, Asymptotic Normal: (0.20248138545542083, 0.3118043288302934)\n",
      "90% Confidence Interval, Asymptotic Normal: (0.1869856177645281, 0.32730009652118613)\n",
      "80% Confidence Interval, Clopper-Pearson: (0.20166677502893046, 0.3198228612374405)\n",
      "90% Confidence Interval, Clopper-Pearson: (0.18813023829750658, 0.3367538054314506)\n",
      "Asymptotic Normal using Wald's: p ± z*sqrt(p(1 − p))/sqrt(n) - where p = succ/nob Clopper-Pearson plays with the binomial pmf to get the interval.\n"
     ]
    }
   ],
   "source": [
    "# your code here\n",
    "successes = 27\n",
    "num_obser = 105\n",
    "alpha_80 = 0.2\n",
    "alpha_90 = 0.1\n",
    "\n",
    "\n",
    "# Using asymptotic normal approximation (equal to hint)\n",
    "print(\"80% Confidence Interval, Asymptotic Normal:\",smp.proportion_confint(count = successes, nobs = 105, alpha = alpha_80, method = 'normal'))\n",
    "print(\"90% Confidence Interval, Asymptotic Normal:\",smp.proportion_confint(count = successes, nobs = 105, alpha = alpha_90, method = 'normal'))\n",
    "\n",
    "# Using asymptotic normal approximation (equal to hint)\n",
    "print(\"80% Confidence Interval, Clopper-Pearson:\",smp.proportion_confint(count = successes, nobs = 105, alpha = alpha_80, method = 'beta'))\n",
    "print(\"90% Confidence Interval, Clopper-Pearson:\",smp.proportion_confint(count = successes, nobs = 105, alpha = alpha_90, method = 'beta'))\n",
    "\n",
    "print(\"Asymptotic Normal using Wald's:\",\n",
    "      \"p ± z*sqrt(p(1 − p))/sqrt(n) - where p = succ/nob\",\n",
    "      \"Clopper-Pearson plays with the binomial pmf to get the interval.\")"
   ]
  },
  {
   "cell_type": "markdown",
   "metadata": {},
   "source": [
    "## Bonus Challenge\n",
    "The error level or sampling error for the first challenge is given by the following expression:\n",
    "$$Error = z_{\\frac{\\alpha}{2}}\\frac{\\sigma}{\\sqrt n}$$\n",
    "Where z represents the value for N(0,1)\n",
    "\n",
    "\n",
    "Suppose that with the previous data of challenge 1, and with a confidence level of\n",
    "99% (that is, almost certainly) we want to estimate the average population size, so that the error level committed is not greater than half a centimeter.\n",
    "\n",
    "#### 1.- Determine what size the selected sample of men should be."
   ]
  },
  {
   "cell_type": "code",
   "execution_count": 73,
   "metadata": {},
   "outputs": [
    {
     "data": {
      "text/plain": [
       "12777510"
      ]
     },
     "execution_count": 73,
     "metadata": {},
     "output_type": "execute_result"
    }
   ],
   "source": [
    "# your code here\n",
    "heights_data = [167, 167, 168, 168, 168, 169, 171, \n",
    "                172, 173, 175, 175, 175, 177, 182, 195]\n",
    "\n",
    "z = z_two_sided(0.99)\n",
    "\n",
    "heights_mean = sum(heights)/len(heights)\n",
    "heights_std = 4\n",
    "err = 0.5/heights_mean\n",
    "\n",
    "n = math.ceil((z*heights_std/err)**2)\n",
    "n"
   ]
  },
  {
   "cell_type": "markdown",
   "metadata": {},
   "source": [
    "#### 2.- For the second challenge, we have the following error:\n",
    "$$ Error = z_{\\frac{\\alpha}{2}}\\sqrt{\\frac{p\\times q}{n}} $$\n",
    "#### Determine the sample size required to not exceed an error of 1% with a confidence of 80%."
   ]
  },
  {
   "cell_type": "code",
   "execution_count": 74,
   "metadata": {},
   "outputs": [
    {
     "data": {
      "text/plain": [
       "15"
      ]
     },
     "execution_count": 74,
     "metadata": {},
     "output_type": "execute_result"
    }
   ],
   "source": [
    "# your code here\n",
    "z = z_two_sided(0.80)\n",
    "successes = 27\n",
    "num_obser = 105\n",
    "\n",
    "p = 27/105\n",
    "q = 1 - p\n",
    "\n",
    "err = 0.01 / p\n",
    "\n",
    "n = math.ceil((z/err)*((p*q)**(1/2)))\n",
    "n"
   ]
  },
  {
   "cell_type": "markdown",
   "metadata": {},
   "source": [
    "## Bonus Challenge\n",
    "\n",
    "Let's consider the following problem:\n",
    "\n",
    "Build a confidence interval of 94% for the real difference between the durations of two brands of spotlights, if a sample of 40 spotlights taken randomly from the first mark gave an average duration of 418 hours, and a sample of 50 bulbs of another brand gave a duration average of 402 hours. The standard deviations of the two\n",
    "populations are 26 hours and 22 hours, respectively.\n",
    "\n",
    "Sometimes, we will be interested in the difference of two different groups of random variables. We can also build a confidence interval for that! We have some different cases regarding the variance but for this specific case (the variance are different and known), we have that:\n",
    "\n",
    "$$\\overline{X} - \\overline{Y}  \\sim N(\\mu_{X} - \\mu_{Y} , \\sqrt{\\frac{\\sigma_{X}^2}{n_X}+\\frac{\\sigma_{Y}^2}{n_Y}})$$\n",
    "\n",
    "Solve the problem with this information."
   ]
  },
  {
   "cell_type": "code",
   "execution_count": 76,
   "metadata": {},
   "outputs": [
    {
     "name": "stdout",
     "output_type": "stream",
     "text": [
      "The confidence interval at 0.94 is [ 6.303419026585921 ; 25.69658097341408 ].\n"
     ]
    }
   ],
   "source": [
    "# your code here\n",
    "confidence = 0.94\n",
    "x_nobs = 40\n",
    "x_mean = 418\n",
    "x_std = 26\n",
    "y_nobs = 50\n",
    "y_mean = 402\n",
    "y_std = 22\n",
    "\n",
    "z = z_two_sided(confidence)\n",
    "diff_means = x_mean - y_mean\n",
    "diff_means_std = ((x_std**2 / x_nobs) + (y_std**2 / y_nobs))**(1/2)\n",
    "\n",
    "confidence_int_min = diff_means - z * diff_means_std\n",
    "confidence_int_max = diff_means + z * diff_means_std\n",
    "\n",
    "print(\"The confidence interval at\", confidence, \"is [\",confidence_int_min,\n",
    "      \";\",confidence_int_max,\"].\")"
   ]
  }
 ],
 "metadata": {
  "kernelspec": {
   "display_name": "Python 3",
   "language": "python",
   "name": "python3"
  },
  "language_info": {
   "codemirror_mode": {
    "name": "ipython",
    "version": 3
   },
   "file_extension": ".py",
   "mimetype": "text/x-python",
   "name": "python",
   "nbconvert_exporter": "python",
   "pygments_lexer": "ipython3",
   "version": "3.8.2"
  }
 },
 "nbformat": 4,
 "nbformat_minor": 2
}
